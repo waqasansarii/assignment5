{
 "cells": [
  {
   "cell_type": "markdown",
   "metadata": {},
   "source": [
    "* Extracting Sublist from a List of Temperatures\n",
    "* Objective: Given a list of daily temperatures for a month, extract the temperatures for a specific week (e.g., week 2).\n",
    "* temperatures = [22, 24, 20, 25, 23, 26, 24, 25, 27, 29, 30, 28, 26, 27, 24, 23, 22, 21, 25, 24, 26, 27, 29, 28, 26, 25, 24, 23, 22, 21]\n"
   ]
  },
  {
   "cell_type": "code",
   "execution_count": 35,
   "metadata": {},
   "outputs": [
    {
     "name": "stdout",
     "output_type": "stream",
     "text": [
      "[22, 24, 20, 25, 23, 26, 24]\n"
     ]
    }
   ],
   "source": [
    "temperatures = [22, 24, 20, 25, 23, 26, 24, 25, 27, 29, 30, 28, 26, 27, 24, 23, 22, 21, 25, 24, 26, 27, 29, 28, 26, 25, 24, 23, 22, 21]\n",
    "# week = int(input('Please enter a week (e.g : 1 , 2 , 3): '))\n",
    "week = 1\n",
    "week_days = 7\n",
    "first_val = week_days * week - 7\n",
    "print(temperatures[first_val : week_days * week])"
   ]
  },
  {
   "cell_type": "markdown",
   "metadata": {},
   "source": [
    "\"\"\"\n",
    "* Extracting a Substring from a Sentence\n",
    "* Objective: Given a sentence, extract and print a specific word using string slicing.\n",
    "* sentence = \"The quick brown fox jumps over the lazy dog\"\n",
    "* extract third word \"brow\"\n",
    "\"\"\""
   ]
  },
  {
   "cell_type": "code",
   "execution_count": 41,
   "metadata": {},
   "outputs": [
    {
     "name": "stdout",
     "output_type": "stream",
     "text": [
      "brow\n"
     ]
    }
   ],
   "source": [
    "sentence = \"The quick brown fox jumps over the lazy dog\"\n",
    "word = \"brow\"\n",
    "word_ind = sentence.index(word)\n",
    "word_chrs = len(word)\n",
    "print(sentence[word_ind:word_ind + word_chrs])"
   ]
  },
  {
   "cell_type": "markdown",
   "metadata": {},
   "source": [
    "```\n",
    "Extracting a Sublist of Favorite Colors\n",
    "Objective: Given a list of favorite colors, extract a sublist of the first three colors using list slicing.\n",
    "favorite_colors = [\"Red\", \"Blue\", \"Green\", \"Yellow\", \"Purple\", \"Orange\"]\n",
    "extract first three colors\n",
    "```"
   ]
  },
  {
   "cell_type": "code",
   "execution_count": 42,
   "metadata": {},
   "outputs": [
    {
     "name": "stdout",
     "output_type": "stream",
     "text": [
      "['Red', 'Blue', 'Green']\n"
     ]
    }
   ],
   "source": [
    "favorite_colors = [\"Red\", \"Blue\", \"Green\", \"Yellow\", \"Purple\", \"Orange\"]\n",
    "print(favorite_colors[0:3])"
   ]
  },
  {
   "cell_type": "markdown",
   "metadata": {},
   "source": [
    "* Write a Python program to check if a list is empty or not."
   ]
  },
  {
   "cell_type": "code",
   "execution_count": 43,
   "metadata": {},
   "outputs": [
    {
     "name": "stdout",
     "output_type": "stream",
     "text": [
      "list is empty\n"
     ]
    }
   ],
   "source": [
    "empty_list = []\n",
    "if len(empty_list) == 0 :\n",
    "    print('list is empty')\n",
    "else:\n",
    "    print('list is not empty')          "
   ]
  },
  {
   "cell_type": "markdown",
   "metadata": {},
   "source": [
    "* 1. output the numbers from 1 to 10 using range function and for loop\n",
    "* output should be like\n",
    " 1\n",
    " 2\n",
    " 3\n",
    " etc"
   ]
  },
  {
   "cell_type": "code",
   "execution_count": 60,
   "metadata": {},
   "outputs": [
    {
     "name": "stdout",
     "output_type": "stream",
     "text": [
      "1\n",
      "2\n",
      "3\n",
      "4\n",
      "5\n",
      "6\n",
      "7\n",
      "8\n",
      "9\n"
     ]
    }
   ],
   "source": [
    "for i in range(1,10):\n",
    "    print(i )"
   ]
  },
  {
   "cell_type": "markdown",
   "metadata": {},
   "source": [
    "* 2. output the numbers from 35 to 50 using range function and for loop\n",
    "* output should be like\n",
    " 35\n",
    " 36\n",
    " 37\n",
    " etc"
   ]
  },
  {
   "cell_type": "code",
   "execution_count": 59,
   "metadata": {},
   "outputs": [
    {
     "name": "stdout",
     "output_type": "stream",
     "text": [
      "35\n",
      "36\n",
      "37\n",
      "38\n",
      "39\n",
      "40\n",
      "41\n",
      "42\n",
      "43\n",
      "44\n",
      "45\n",
      "46\n",
      "47\n",
      "48\n",
      "49\n"
     ]
    }
   ],
   "source": [
    "for i in range(35,50):\n",
    "    print(i)"
   ]
  },
  {
   "cell_type": "markdown",
   "metadata": {},
   "source": [
    "* 3. output the numbers from -15 to -25 using range function and for loop\n",
    "* output should be like\n",
    " -15\n",
    " -16\n",
    " -17\n",
    " etc"
   ]
  },
  {
   "cell_type": "code",
   "execution_count": 61,
   "metadata": {},
   "outputs": [
    {
     "name": "stdout",
     "output_type": "stream",
     "text": [
      "-15\n",
      "-16\n",
      "-17\n",
      "-18\n",
      "-19\n",
      "-20\n",
      "-21\n",
      "-22\n",
      "-23\n",
      "-24\n"
     ]
    }
   ],
   "source": [
    "for i in range(-15,-25,-1):\n",
    "    print(i)"
   ]
  },
  {
   "cell_type": "markdown",
   "metadata": {},
   "source": [
    "* 4. output the numbers from 5 to -10 using range function and for loop\n",
    "* output should be like\n",
    " 5\n",
    " 4\n",
    " 3\n",
    " etc"
   ]
  },
  {
   "cell_type": "code",
   "execution_count": 63,
   "metadata": {},
   "outputs": [
    {
     "name": "stdout",
     "output_type": "stream",
     "text": [
      "5\n",
      "4\n",
      "3\n",
      "2\n",
      "1\n",
      "0\n",
      "-1\n",
      "-2\n",
      "-3\n",
      "-4\n",
      "-5\n",
      "-6\n",
      "-7\n",
      "-8\n",
      "-9\n"
     ]
    }
   ],
   "source": [
    "for i in range(5,-10,-1):\n",
    "    print(i)"
   ]
  },
  {
   "cell_type": "markdown",
   "metadata": {},
   "source": [
    "* 5. output the numbers from 0 to 50 incremented by 3 using range function and for loop\n",
    "* output should be like\n",
    " 0\n",
    " 3\n",
    " 6\n",
    " 9\n",
    " etc"
   ]
  },
  {
   "cell_type": "code",
   "execution_count": 64,
   "metadata": {},
   "outputs": [
    {
     "name": "stdout",
     "output_type": "stream",
     "text": [
      "0\n",
      "3\n",
      "6\n",
      "9\n",
      "12\n",
      "15\n",
      "18\n",
      "21\n",
      "24\n",
      "27\n",
      "30\n",
      "33\n",
      "36\n",
      "39\n",
      "42\n",
      "45\n",
      "48\n"
     ]
    }
   ],
   "source": [
    "for i in range(0,50,3):\n",
    "    print(i)"
   ]
  },
  {
   "cell_type": "markdown",
   "metadata": {},
   "source": [
    "``` \n",
    "6.  Write a program to Generate Multiplication Table of 2 using range function and for loop\n",
    "# output format should be like\n",
    "# 2 x 1 = 2\n",
    "# 2 x 2 = 4\n",
    "# ```"
   ]
  },
  {
   "cell_type": "code",
   "execution_count": 69,
   "metadata": {},
   "outputs": [
    {
     "name": "stdout",
     "output_type": "stream",
     "text": [
      "2 x 1 = 2\n",
      "2 x 2 = 4\n",
      "2 x 3 = 6\n",
      "2 x 4 = 8\n",
      "2 x 5 = 10\n",
      "2 x 6 = 12\n",
      "2 x 7 = 14\n",
      "2 x 8 = 16\n",
      "2 x 9 = 18\n",
      "2 x 10 = 20\n"
     ]
    }
   ],
   "source": [
    "for i in range (1 , 11):\n",
    "    print(f'2 x {i} = {i * 2}')"
   ]
  },
  {
   "cell_type": "markdown",
   "metadata": {},
   "source": [
    "```\n",
    "# 7. Write a Python program to sum all the items in a list use for loop. consider the list [3, 5, 2, 1, 4]\n",
    "# output should be 15\n",
    "# hint: \n",
    "# create a variable x outside the loop and assign the value 0\n",
    "# inside the loop increment the value of x with the local variable of loop\n",
    "# x += i\n",
    "```"
   ]
  },
  {
   "cell_type": "code",
   "execution_count": 74,
   "metadata": {},
   "outputs": [
    {
     "name": "stdout",
     "output_type": "stream",
     "text": [
      "15\n",
      "15\n"
     ]
    }
   ],
   "source": [
    "num_list = [3, 5, 2, 1, 4]\n",
    "x = 0\n",
    "\n",
    "for val in num_list:\n",
    "    x += val\n",
    "    \n",
    "print(x)   \n",
    "\n",
    "# OR\n",
    "\n",
    "sum_list = sum(num_list)\n",
    "print(sum_list) "
   ]
  },
  {
   "cell_type": "markdown",
   "metadata": {},
   "source": [
    "```\n",
    "# 8. Write a Python program to get the largest number from a list and use for loop consider the list [3, 5, 2, 1, 4]\n",
    "# output should be 5\n",
    "# hint:\n",
    "# create a variable x outside the loop and assign the value 0\n",
    "# inside the loop compare the variable x with the local variable of loop\n",
    "```"
   ]
  },
  {
   "cell_type": "code",
   "execution_count": 73,
   "metadata": {},
   "outputs": [
    {
     "name": "stdout",
     "output_type": "stream",
     "text": [
      "5\n"
     ]
    }
   ],
   "source": [
    "num_list= [3, 5, 2, 1, 4]\n",
    "x = max(num_list)\n",
    "\n",
    "for i in num_list:\n",
    "    if x == i:\n",
    "        print(i)"
   ]
  },
  {
   "cell_type": "markdown",
   "metadata": {},
   "source": [
    "```\n",
    " Exercise 1: Sum of Elements in a List\n",
    "# Objective: Write a Python program that calculates the sum of all elements in a given list.\n",
    "# Example list\n",
    "# numbers = [10, 20, 30, 40, 50]\n",
    "```"
   ]
  },
  {
   "cell_type": "code",
   "execution_count": 75,
   "metadata": {},
   "outputs": [
    {
     "name": "stdout",
     "output_type": "stream",
     "text": [
      "150\n"
     ]
    }
   ],
   "source": [
    "numbers = [10, 20, 30, 40, 50]\n",
    "print(sum(numbers))"
   ]
  },
  {
   "cell_type": "markdown",
   "metadata": {},
   "source": [
    "```\n",
    "# Count Even and Odd Numbers in a List\n",
    "# Objective: Write a Python program that counts the number of even and odd numbers in a given list.\n",
    "# Example list\n",
    "# numbers = [12, 7, 9, 24, 18, 5, 3, 20]\n",
    "```"
   ]
  },
  {
   "cell_type": "code",
   "execution_count": 76,
   "metadata": {},
   "outputs": [
    {
     "name": "stdout",
     "output_type": "stream",
     "text": [
      "Even count : 4\n",
      "Odd count : 4\n"
     ]
    }
   ],
   "source": [
    "numbers = [12, 7, 9, 24, 18, 5, 3, 20]\n",
    "even_count = 0\n",
    "odd_count =0\n",
    "\n",
    "for i in numbers:\n",
    "    if i % 2 ==0:\n",
    "        even_count += 1\n",
    "    else:\n",
    "        odd_count += 1 \n",
    "        \n",
    "print(f'Even count : {even_count}')   \n",
    "print(f'Odd count : {odd_count}')   "
   ]
  },
  {
   "cell_type": "markdown",
   "metadata": {},
   "source": [
    "```\n",
    "# Print List Elements with Their Indices\n",
    "# Objective: Write a Python program that prints each element of a list along with its index.\n",
    "# Example list\n",
    "# fruits = [\"apple\", \"banana\", \"cherry\", \"date\", \"elderberry\"]\n",
    "# output should like\n",
    "# \"Index: 0 Element: apple\"\n",
    "# \"Index: 1 Element: banana\"\n",
    "# \"Index: 2 Element: cherry\"\n",
    "\n",
    "```"
   ]
  },
  {
   "cell_type": "code",
   "execution_count": 77,
   "metadata": {},
   "outputs": [
    {
     "name": "stdout",
     "output_type": "stream",
     "text": [
      "Index: 0 Element: apple\n",
      "Index: 1 Element: banana\n",
      "Index: 2 Element: cherry\n",
      "Index: 3 Element: date\n",
      "Index: 4 Element: elderberry\n"
     ]
    }
   ],
   "source": [
    "fruits = [\"apple\", \"banana\", \"cherry\", \"date\", \"elderberry\"]\n",
    "\n",
    "for ind , fruit in enumerate(fruits):\n",
    "    print(f'Index: {ind} Element: {fruit}')"
   ]
  },
  {
   "cell_type": "markdown",
   "metadata": {},
   "source": [
    "* Create a List of Even Numbers from 1 to 20\n",
    "* Objective: Write a Python program that creates a list of all even numbers from 1 to 20."
   ]
  },
  {
   "cell_type": "code",
   "execution_count": 82,
   "metadata": {},
   "outputs": [
    {
     "name": "stdout",
     "output_type": "stream",
     "text": [
      "[2, 4, 6, 8, 10, 12, 14, 16, 18, 20]\n"
     ]
    }
   ],
   "source": [
    "even_list =[]\n",
    "\n",
    "for i in range(1,21):\n",
    "    if i % 2 == 0:\n",
    "        even_list.append(i)\n",
    "        \n",
    "print(even_list)"
   ]
  },
  {
   "cell_type": "markdown",
   "metadata": {},
   "source": [
    "```\n",
    "# Find Common Elements Between Two Lists\n",
    "# Objective: Write a Python program that finds and prints the common elements between two lists.\n",
    "# Example lists\n",
    "# list1 = [1, 2, 3, 4, 5]\n",
    "# list2 = [4, 5, 6, 7, 8]\n",
    "```"
   ]
  },
  {
   "cell_type": "code",
   "execution_count": 86,
   "metadata": {},
   "outputs": [
    {
     "name": "stdout",
     "output_type": "stream",
     "text": [
      "common element is : 4\n",
      "common element is : 5\n"
     ]
    }
   ],
   "source": [
    "list1 = [1, 2, 3, 4, 5]\n",
    "list2 = [4, 5, 6, 7, 8]\n",
    "\n",
    "for i in list1:\n",
    "    if i in list2:\n",
    "        print(f'common element is : {i}')"
   ]
  },
  {
   "cell_type": "markdown",
   "metadata": {},
   "source": [
    "```\n",
    "# Find the Length of Each String in a List\n",
    "# Objective: Write a Python program that finds and prints the length of each string in a given list.\n",
    "# Example list\n",
    "# strings = [\"apple\", \"banana\", \"cherry\", \"date\"]\n",
    "```"
   ]
  },
  {
   "cell_type": "code",
   "execution_count": 87,
   "metadata": {},
   "outputs": [
    {
     "name": "stdout",
     "output_type": "stream",
     "text": [
      "length of apple is : 5\n",
      "length of banana is : 6\n",
      "length of cherry is : 6\n",
      "length of date is : 4\n"
     ]
    }
   ],
   "source": [
    "strings = [\"apple\", \"banana\", \"cherry\", \"date\"]\n",
    "\n",
    "for value in strings:\n",
    "    print(f'length of {value} is : {len(value)}')"
   ]
  }
 ],
 "metadata": {
  "kernelspec": {
   "display_name": "Python 3",
   "language": "python",
   "name": "python3"
  },
  "language_info": {
   "codemirror_mode": {
    "name": "ipython",
    "version": 3
   },
   "file_extension": ".py",
   "mimetype": "text/x-python",
   "name": "python",
   "nbconvert_exporter": "python",
   "pygments_lexer": "ipython3",
   "version": "3.11.8"
  }
 },
 "nbformat": 4,
 "nbformat_minor": 2
}
